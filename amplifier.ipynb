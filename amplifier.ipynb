{
 "metadata": {
  "name": "",
  "signature": "sha256:a7b2eb94af41e84bdb203a53a15eb0d9e506a8268f05a22df7336c27a7ca6648"
 },
 "nbformat": 3,
 "nbformat_minor": 0,
 "worksheets": [
  {
   "cells": [
    {
     "cell_type": "code",
     "collapsed": false,
     "input": [
      "from __future__ import division\n",
      "import scipy.optimize\n",
      "import numpy as np\n",
      "from numpy import pi, sqrt\n",
      "I = complex(0,1)"
     ],
     "language": "python",
     "metadata": {},
     "outputs": [],
     "prompt_number": 122
    },
    {
     "cell_type": "code",
     "collapsed": false,
     "input": [
      "from matplotlib import pyplot as pl\n",
      "%matplotlib inline"
     ],
     "language": "python",
     "metadata": {},
     "outputs": [],
     "prompt_number": 123
    },
    {
     "cell_type": "code",
     "collapsed": false,
     "input": [
      "from pint import UnitRegistry\n",
      "ureg = UnitRegistry()"
     ],
     "language": "python",
     "metadata": {},
     "outputs": [],
     "prompt_number": 124
    },
    {
     "cell_type": "code",
     "collapsed": false,
     "input": [
      "sensitivity = 100 * ureg.milliamp / ureg.watt\n",
      "Pmin = 100 * ureg.nanowatt\n",
      "Pmax = 100 * ureg.milliwatt"
     ],
     "language": "python",
     "metadata": {},
     "outputs": [],
     "prompt_number": 125
    },
    {
     "cell_type": "code",
     "collapsed": false,
     "input": [
      "Imin = sensitivity * Pmin\n",
      "Imax = sensitivity * Pmax"
     ],
     "language": "python",
     "metadata": {},
     "outputs": [],
     "prompt_number": 126
    },
    {
     "cell_type": "markdown",
     "metadata": {},
     "source": [
      "Following Microchip AN951"
     ]
    },
    {
     "cell_type": "code",
     "collapsed": false,
     "input": [
      "# Sensor\n",
      "Csen = 3200 * ureg.picofarad\n",
      "\n",
      "# Op amp\n",
      "Ccm = 13 * ureg.picofarad\n",
      "Cdm = 6.5 * ureg.picofarad\n",
      "fGBP = 5.5 * ureg.MHz\n",
      "\n",
      "# Feedback resistor parasitics\n",
      "Crf = 1 * ureg.picofarad"
     ],
     "language": "python",
     "metadata": {},
     "outputs": [],
     "prompt_number": 127
    },
    {
     "cell_type": "code",
     "collapsed": false,
     "input": [
      "# Design targets\n",
      "bandwidth = 1 * ureg.kHz"
     ],
     "language": "python",
     "metadata": {},
     "outputs": [],
     "prompt_number": 128
    },
    {
     "cell_type": "heading",
     "level": 1,
     "metadata": {},
     "source": [
      "DC"
     ]
    },
    {
     "cell_type": "code",
     "collapsed": false,
     "input": [
      "range_sel = 1\n",
      "if range_sel == 1:\n",
      "    Rf = 100 * ureg.ohm\n",
      "elif range_sel == 2:\n",
      "    Rf = 1000 * ureg.kohm\n",
      "\n",
      "P = 10 * ureg.milliwatt\n",
      "Is = sensitivity * P"
     ],
     "language": "python",
     "metadata": {},
     "outputs": [],
     "prompt_number": 129
    },
    {
     "cell_type": "markdown",
     "metadata": {},
     "source": [
      "The DC output voltage due to the source current is given by,"
     ]
    },
    {
     "cell_type": "code",
     "collapsed": false,
     "input": [
      "Vout = Is * Rf\n",
      "Vout.to(ureg.volts)"
     ],
     "language": "python",
     "metadata": {},
     "outputs": [
      {
       "html": [
        "0.1 volt"
       ],
       "latex": [
        "$0.1 volt$"
       ],
       "metadata": {},
       "output_type": "pyout",
       "prompt_number": 130,
       "text": [
        "<Quantity(0.1, 'volt')>"
       ]
      }
     ],
     "prompt_number": 130
    },
    {
     "cell_type": "markdown",
     "metadata": {},
     "source": [
      "The offset voltage is given by,"
     ]
    },
    {
     "cell_type": "code",
     "collapsed": false,
     "input": [
      "Vos = 150 * ureg.uvolt\n",
      "Ib = 5 * ureg.picoamp\n",
      "offset = Vos + Ib * Rf\n",
      "offset.to(ureg.uvolts)"
     ],
     "language": "python",
     "metadata": {},
     "outputs": [
      {
       "html": [
        "150.0005 microvolt"
       ],
       "latex": [
        "$150.0005 microvolt$"
       ],
       "metadata": {},
       "output_type": "pyout",
       "prompt_number": 131,
       "text": [
        "<Quantity(150.0005, 'microvolt')>"
       ]
      }
     ],
     "prompt_number": 131
    },
    {
     "cell_type": "markdown",
     "metadata": {},
     "source": [
      "Percent offset"
     ]
    },
    {
     "cell_type": "code",
     "collapsed": false,
     "input": [
      "(offset / Vout).to(ureg.dimensionless) * 100"
     ],
     "language": "python",
     "metadata": {},
     "outputs": [
      {
       "html": [
        "0.1500005 dimensionless"
       ],
       "latex": [
        "$0.1500005 dimensionless$"
       ],
       "metadata": {},
       "output_type": "pyout",
       "prompt_number": 132,
       "text": [
        "<Quantity(0.1500005, 'dimensionless')>"
       ]
      }
     ],
     "prompt_number": 132
    },
    {
     "cell_type": "heading",
     "level": 1,
     "metadata": {},
     "source": [
      "Stability"
     ]
    },
    {
     "cell_type": "code",
     "collapsed": false,
     "input": [
      "# Compensation capacitor\n",
      "Cc = 1000 * ureg.picofarad\n",
      "\n",
      "# Feedback resistor\n",
      "Rf = 5 * ureg.kohm"
     ],
     "language": "python",
     "metadata": {},
     "outputs": [],
     "prompt_number": 133
    },
    {
     "cell_type": "code",
     "collapsed": false,
     "input": [
      "Cs = Csen + Ccm + Cdm\n",
      "Cf = Cc + Crf"
     ],
     "language": "python",
     "metadata": {},
     "outputs": [],
     "prompt_number": 134
    },
    {
     "cell_type": "code",
     "collapsed": false,
     "input": [
      "# High frequency noise gain\n",
      "Gn2 = 1 + Cs / Cf\n",
      "Gn2"
     ],
     "language": "python",
     "metadata": {},
     "outputs": [
      {
       "html": [
        "4.21628371628 dimensionless"
       ],
       "latex": [
        "$4.21628371628 dimensionless$"
       ],
       "metadata": {},
       "output_type": "pyout",
       "prompt_number": 135,
       "text": [
        "<Quantity(4.21628371628, 'dimensionless')>"
       ]
      }
     ],
     "prompt_number": 135
    },
    {
     "cell_type": "code",
     "collapsed": false,
     "input": [
      "# Noise gain's zero\n",
      "fNZ = 1 / (2*pi * Rf * (Cf + Cs))\n",
      "fNZ.ito(ureg.kHz)\n",
      "fNZ"
     ],
     "language": "python",
     "metadata": {},
     "outputs": [
      {
       "html": [
        "221.343581462 kilohertz"
       ],
       "latex": [
        "$221.343581462 kilohertz$"
       ],
       "metadata": {},
       "output_type": "pyout",
       "prompt_number": 160,
       "text": [
        "<Quantity(221.343581462, 'kilohertz')>"
       ]
      }
     ],
     "prompt_number": 160
    },
    {
     "cell_type": "code",
     "collapsed": false,
     "input": [
      "# Noise gain's pole\n",
      "fNP = 1 / (2*pi * Rf * Cf)\n",
      "fNP.ito(ureg.kHz)\n",
      "fNP"
     ],
     "language": "python",
     "metadata": {},
     "outputs": [
      {
       "html": [
        "222.339103966 kilohertz"
       ],
       "latex": [
        "$222.339103966 kilohertz$"
       ],
       "metadata": {},
       "output_type": "pyout",
       "prompt_number": 161,
       "text": [
        "<Quantity(222.339103966, 'kilohertz')>"
       ]
      }
     ],
     "prompt_number": 161
    },
    {
     "cell_type": "markdown",
     "metadata": {},
     "source": [
      "This should be greater than or equal to one,"
     ]
    },
    {
     "cell_type": "code",
     "collapsed": false,
     "input": [
      "fNP / fNZ"
     ],
     "language": "python",
     "metadata": {},
     "outputs": [
      {
       "html": [
        "4.21628371628 dimensionless"
       ],
       "latex": [
        "$4.21628371628 dimensionless$"
       ],
       "metadata": {},
       "output_type": "pyout",
       "prompt_number": 138,
       "text": [
        "<Quantity(4.21628371628, 'dimensionless')>"
       ]
      }
     ],
     "prompt_number": 138
    },
    {
     "cell_type": "markdown",
     "metadata": {},
     "source": [
      "The noise gain is,"
     ]
    },
    {
     "cell_type": "code",
     "collapsed": false,
     "input": [
      "Gn = lambda s: (1 + s / (2*pi*fNZ)) / (1 + s / (2*pi*fNP))"
     ],
     "language": "python",
     "metadata": {},
     "outputs": [],
     "prompt_number": 139
    },
    {
     "cell_type": "markdown",
     "metadata": {},
     "source": [
      "and the op-amp's open-loop gain is approximated by,"
     ]
    },
    {
     "cell_type": "code",
     "collapsed": false,
     "input": [
      "Aol = lambda s: 2*pi*fGBP / s"
     ],
     "language": "python",
     "metadata": {},
     "outputs": [],
     "prompt_number": 140
    },
    {
     "cell_type": "markdown",
     "metadata": {},
     "source": [
      "The cross-over frequency $f_{XVR}$ is given by,"
     ]
    },
    {
     "cell_type": "code",
     "collapsed": false,
     "input": [
      "def f(s):\n",
      "    s = s / ureg.second\n",
      "    return (Gn(s) - Aol(s)).magnitude\n",
      "fXVR = scipy.optimize.newton(f, 1e2) / ureg.second\n",
      "fXVR = fXVR.to(ureg.MHz)\n",
      "fXVR"
     ],
     "language": "python",
     "metadata": {},
     "outputs": [
      {
       "html": [
        "8.3450521234 megahertz"
       ],
       "latex": [
        "$8.3450521234 megahertz$"
       ],
       "metadata": {},
       "output_type": "pyout",
       "prompt_number": 141,
       "text": [
        "<Quantity(8.3450521234, 'megahertz')>"
       ]
      }
     ],
     "prompt_number": 141
    },
    {
     "cell_type": "code",
     "collapsed": false,
     "input": [
      "ss = np.logspace(0, 7) * ureg.Hz\n",
      "pl.plot(ss, Aol(2*pi*ss).to(ureg.dimensionless).magnitude, label='open-loop gain')\n",
      "pl.plot(ss, Gn(2*pi*ss).to(ureg.dimensionless).magnitude, label='noise gain')\n",
      "pl.axvline(fGBP.to('Hz').magnitude, label='$f_{GBP}$')\n",
      "pl.axvline(fXVR.to('Hz').magnitude, label='$f_{XVR}$')\n",
      "pl.xscale('log')\n",
      "pl.yscale('log')\n",
      "pl.legend(loc='upper left')\n",
      "pl.ylim(0.1, 10e2)\n",
      "pl.xlabel('Frequency (Hz)')\n",
      "pl.ylabel('Gain')"
     ],
     "language": "python",
     "metadata": {},
     "outputs": [
      {
       "metadata": {},
       "output_type": "pyout",
       "prompt_number": 142,
       "text": [
        "<matplotlib.text.Text at 0x7f8733097110>"
       ]
      },
      {
       "metadata": {},
       "output_type": "display_data",
       "png": "[encoded data removed]",
       "text": [
        "<matplotlib.figure.Figure at 0x7f87332dd750>"
       ]
      }
     ],
     "prompt_number": 142
    },
    {
     "cell_type": "heading",
     "level": 2,
     "metadata": {},
     "source": [
      "Noise gain case 1"
     ]
    },
    {
     "cell_type": "code",
     "collapsed": false,
     "input": [
      "print fNZ, '>', fGBP"
     ],
     "language": "python",
     "metadata": {},
     "outputs": [
      {
       "output_type": "stream",
       "stream": "stdout",
       "text": [
        "7.54199469693 kilohertz > 5.5 megahertz\n"
       ]
      }
     ],
     "prompt_number": 143
    },
    {
     "cell_type": "code",
     "collapsed": false,
     "input": [
      "print fXVR, '~', fGBP"
     ],
     "language": "python",
     "metadata": {},
     "outputs": [
      {
       "output_type": "stream",
       "stream": "stdout",
       "text": [
        "8.3450521234 megahertz ~ 5.5 megahertz\n"
       ]
      }
     ],
     "prompt_number": 144
    },
    {
     "cell_type": "heading",
     "level": 2,
     "metadata": {},
     "source": [
      "Noise gain case 2"
     ]
    },
    {
     "cell_type": "code",
     "collapsed": false,
     "input": [
      "np.sqrt(fNZ * fGBP).to('MHz')"
     ],
     "language": "python",
     "metadata": {},
     "outputs": [
      {
       "html": [
        "0.203668777266 megahertz"
       ],
       "latex": [
        "$0.203668777266 megahertz$"
       ],
       "metadata": {},
       "output_type": "pyout",
       "prompt_number": 145,
       "text": [
        "<Quantity(0.203668777266, 'megahertz')>"
       ]
      }
     ],
     "prompt_number": 145
    },
    {
     "cell_type": "heading",
     "level": 2,
     "metadata": {},
     "source": [
      "Noise gain case 3"
     ]
    },
    {
     "cell_type": "code",
     "collapsed": false,
     "input": [
      "print fNP.to('MHz'), '<', fGBP / Gn2"
     ],
     "language": "python",
     "metadata": {},
     "outputs": [
      {
       "output_type": "stream",
       "stream": "stdout",
       "text": [
        "0.031799189429 megahertz < 1.30446629546 megahertz\n"
       ]
      }
     ],
     "prompt_number": 146
    },
    {
     "cell_type": "code",
     "collapsed": false,
     "input": [
      "print fXVR, '~', fGBP / Gn2"
     ],
     "language": "python",
     "metadata": {},
     "outputs": [
      {
       "output_type": "stream",
       "stream": "stdout",
       "text": [
        "8.3450521234 megahertz ~ 1.30446629546 megahertz\n"
       ]
      }
     ],
     "prompt_number": 147
    },
    {
     "cell_type": "heading",
     "level": 1,
     "metadata": {},
     "source": [
      "Playing"
     ]
    },
    {
     "cell_type": "code",
     "collapsed": false,
     "input": [
      "def bode(w, G, **kwargs):\n",
      "    pl.subplot(121)\n",
      "    pl.loglog(w, np.abs(G), **kwargs)\n",
      "    pl.xlabel(r'$\\omega$')\n",
      "    pl.ylabel(r'Gain')\n",
      "    \n",
      "    pl.subplot(122)\n",
      "    pl.semilogx(w, np.angle(G)/pi, **kwargs)\n",
      "    pl.xlabel(r'$\\omega$')\n",
      "    pl.ylabel(r'Phase')"
     ],
     "language": "python",
     "metadata": {},
     "outputs": [],
     "prompt_number": 173
    },
    {
     "cell_type": "code",
     "collapsed": false,
     "input": [
      "w = np.logspace(-4, 2, 1000)\n",
      "G = 1 / (I*w+1e0) / (I*w + 1e-2)\n",
      "bode(w, G)"
     ],
     "language": "python",
     "metadata": {},
     "outputs": [
      {
       "metadata": {},
       "output_type": "display_data",
       "png": "[encoded data removed]",
       "text": [
        "<matplotlib.figure.Figure at 0x7f8733659750>"
       ]
      }
     ],
     "prompt_number": 149
    },
    {
     "cell_type": "code",
     "collapsed": false,
     "input": [
      "Aol = 1e5\n",
      "Rf = 100 * ureg.ohm\n",
      "Cf = 1 * ureg.ufarad\n",
      "Cc = 1 * ureg.pfarad\n",
      "w = np.logspace(2, 6, 1000) / ureg.sec\n",
      "\n",
      "Zf = 1 / (1/Rf + I*w*Cf)\n",
      "Zc = 1 / I / w / Cc\n",
      "Acl = Aol * Zf / (1 - Aol + Zf / Zc)"
     ],
     "language": "python",
     "metadata": {},
     "outputs": [],
     "prompt_number": 150
    },
    {
     "cell_type": "code",
     "collapsed": false,
     "input": [
      "bode(w, Acl * Aol)"
     ],
     "language": "python",
     "metadata": {},
     "outputs": [
      {
       "metadata": {},
       "output_type": "display_data",
       "png": "[encoded data removed]",
       "text": [
        "<matplotlib.figure.Figure at 0x7f8733659750>"
       ]
      }
     ],
     "prompt_number": 151
    },
    {
     "cell_type": "heading",
     "level": 1,
     "metadata": {},
     "source": [
      "Modelling"
     ]
    },
    {
     "cell_type": "code",
     "collapsed": false,
     "input": [
      "# Op amp characteristics\n",
      "input_vnoise = 10 * ureg.nV / sqrt(ureg.Hz)\n",
      "input_inoise = 2 * ureg.fA / sqrt(ureg.Hz)\n",
      "\n",
      "boltzmann = 1.3806e-23 * ureg.J / ureg.degK\n",
      "temperature = 300 * ureg.degK\n",
      "kT = boltzmann * temperature\n",
      "\n",
      "def tia_noise(Rf, Cf):\n",
      "    \"\"\" Figure 8 of Analogue Dialogue 47-05 \"\"\"\n",
      "    f3db = 1 / 2 / pi / Rf / Cf\n",
      "    enbw = f3db * pi / 2\n",
      "    noise_Rf = sqrt(4 * kT * enbw * Rf).to('volt')\n",
      "    noise_current = input_inoise * Rf * sqrt(enbw)\n",
      "    \n",
      "    # Noise due to opamp input voltage\n",
      "    Ci = Cdm + Ccm\n",
      "    N1 = input_vnoise\n",
      "    N2 = input_vnoise * (Cf + Csen + Ci) / Cf\n",
      "    fz1 = 1 / 2 / pi / Rf / (Cf + Csen + Ci)\n",
      "    fp1 = 1 / 2 / pi / Rf / Cf\n",
      "    fp2 = fGBP * Cf / (Cf + Csen + Ci)\n",
      "    noise_voltage = N2 * sqrt(pi / 2 * fp2)\n",
      "    \n",
      "    noise = sqrt(noise_Rf**2 + noise_current**2 + noise_voltage**2)\n",
      "    return noise"
     ],
     "language": "python",
     "metadata": {},
     "outputs": [],
     "prompt_number": 152
    },
    {
     "cell_type": "code",
     "collapsed": false,
     "input": [
      "powers = np.logspace(-9, 0) * ureg.watt"
     ],
     "language": "python",
     "metadata": {},
     "outputs": [],
     "prompt_number": 153
    },
    {
     "cell_type": "code",
     "collapsed": false,
     "input": [
      "def feedback_cap(Rf):\n",
      "    return sqrt((Csen + Ccm + Cdm) / 2 / pi / Rf / bandwidth)"
     ],
     "language": "python",
     "metadata": {},
     "outputs": [],
     "prompt_number": 154
    },
    {
     "cell_type": "code",
     "collapsed": false,
     "input": [
      "currents = powers * sensitivity\n",
      "gains = [5 * ureg.Mohm, 33 * ureg.kohm, 150 * ureg.ohm, 1 * ureg.ohm]\n",
      "for Rf in gains:\n",
      "    vs = (Rf * currents).to(ureg.volt)\n",
      "    Cf = feedback_cap(Rf)\n",
      "    noise = tia_noise(Rf, Cf).to('volt')\n",
      "    print Rf, noise, Cf.to('pF')\n",
      "    pl.fill_between(powers, (vs - noise).magnitude, (vs + noise).magnitude, alpha=0.1)\n",
      "    pl.plot(powers, vs.magnitude, label='gain=%s' % Rf)\n",
      "    \n",
      "codepoint = 3.3 * ureg.volt / 2**16\n",
      "for n in [10, 500, 2**15]:\n",
      "    pl.axhline(n * codepoint.magnitude, c='0.8', zorder=0)\n",
      "    \n",
      "pl.xscale('log')\n",
      "pl.yscale('log')\n",
      "pl.ylabel('output voltage (volts)')\n",
      "pl.xlabel('optical power (watts)')\n",
      "pl.ylim(codepoint.magnitude, 3.3)\n",
      "pl.legend(loc='lower right')"
     ],
     "language": "python",
     "metadata": {},
     "outputs": [
      {
       "output_type": "stream",
       "stream": "stdout",
       "text": [
        "5 megaohm 9.78035273614e-05 volt 320.124769202 picofarad\n",
        "33 kiloohm 3.96340433702e-05 volt 3940.46351405 picofarad\n",
        "150 ohm 3.01926891209e-05 volt 58446.5191028 picofarad\n",
        "1 ohm 2.9458945042e-05 volt 715820.745218 picofarad\n"
       ]
      },
      {
       "metadata": {},
       "output_type": "pyout",
       "prompt_number": 155,
       "text": [
        "<matplotlib.legend.Legend at 0x7f8732aabc90>"
       ]
      },
      {
       "metadata": {},
       "output_type": "display_data",
       "png": "[encoded data removed]",
       "text": [
        "<matplotlib.figure.Figure at 0x7f87333ffb90>"
       ]
      }
     ],
     "prompt_number": 155
    },
    {
     "cell_type": "code",
     "collapsed": false,
     "input": [
      "f = np.logspace(-1, 6) * ureg.Hz\n",
      "\n",
      "# Op amp open loop gain\n",
      "Aol = lambda s: 2*pi*fGBP / s\n",
      "bode(f, Aol(2*pi*f*I).to(''))\n",
      "\n",
      "for Rf in gains:\n",
      "    Cf = feedback_cap(Rf)\n",
      "\n",
      "    # Noise gain's zero\n",
      "    fNZ = 1 / (2*pi * Rf * (Cf + Cs))\n",
      "    # Noise gain's pole\n",
      "    fNP = 1 / (2*pi * Rf * Cf)\n",
      "    \n",
      "    # Noise gain\n",
      "    Gn = (1 + I*f / fNZ) / (1 + I*f / fNP)\n",
      "    \n",
      "    bode(f, Gn.to(''), label='Rf=%s' % Rf)\n",
      "\n",
      "pl.subplot(121)\n",
      "pl.ylim(1e-1, 1e3)\n",
      "#pl.legend()"
     ],
     "language": "python",
     "metadata": {},
     "outputs": [
      {
       "metadata": {},
       "output_type": "pyout",
       "prompt_number": 183,
       "text": [
        "(0.1, 1000.0)"
       ]
      },
      {
       "metadata": {},
       "output_type": "display_data",
       "png": "[encoded data removed]",
       "text": [
        "<matplotlib.figure.Figure at 0x7f8731a8acd0>"
       ]
      }
     ],
     "prompt_number": 183
    },
    {
     "cell_type": "code",
     "collapsed": false,
     "input": [],
     "language": "python",
     "metadata": {},
     "outputs": []
    }
   ],
   "metadata": {}
  }
 ]
}